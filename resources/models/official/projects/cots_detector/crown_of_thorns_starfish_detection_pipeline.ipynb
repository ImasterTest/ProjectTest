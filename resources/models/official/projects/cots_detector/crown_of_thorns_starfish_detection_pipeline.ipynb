version https://git-lfs.github.com/spec/v1
oid sha256:7eeae5b153cee7a52a94ab049e257b71656c84fe8d594707af6cb48e633973c0
size 30976
